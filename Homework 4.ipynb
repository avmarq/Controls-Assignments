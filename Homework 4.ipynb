{
 "cells": [
  {
   "cell_type": "markdown",
   "metadata": {
    "id": "QvGJbnaiDNSP"
   },
   "source": [
    "<!--NOTEBOOK_HEADER-->\n",
    "*This notebook contains material from [cbe30338-2021](https://jckantor.github.io/cbe30338-2021);\n",
    "content is available [on Github](https://github.com/jckantor/cbe30338-2021.git).*\n"
   ]
  },
  {
   "cell_type": "markdown",
   "metadata": {
    "id": "dw6aFr8aDNSY"
   },
   "source": [
    "<!--NAVIGATION-->\n",
    "< [5.2 Linear Blending Problems](https://jckantor.github.io/cbe30338-2021/05.02-Linear-Blending-Problem.html) | [Contents](toc.html) | [Tag Index](tag_index.html) | [5.4 Gasoline Blending](https://jckantor.github.io/cbe30338-2021/05.04-Gasoline-Blending.html) ><p><a href=\"https://colab.research.google.com/github/jckantor/cbe30338-2021/blob/master/docs/05.03-Homework_5.ipynb\"> <img align=\"left\" src=\"https://colab.research.google.com/assets/colab-badge.svg\" alt=\"Open in Colab\" title=\"Open in Google Colaboratory\"></a><p><a href=\"https://jckantor.github.io/cbe30338-2021/05.03-Homework_5.ipynb\"> <img align=\"left\" src=\"https://img.shields.io/badge/Github-Download-blue.svg\" alt=\"Download\" title=\"Download Notebook\"></a>"
   ]
  },
  {
   "cell_type": "markdown",
   "metadata": {
    "id": "5jDthKd8zoSX",
    "nbpages": {
     "level": 1,
     "link": "[5.3 Homework Assignment 4](https://jckantor.github.io/cbe30338-2021/05.03-Homework_5.html#5.3-Homework-Assignment-4)",
     "section": "5.3 Homework Assignment 4"
    }
   },
   "source": [
    "# 5.3 Homework Assignment 4\n",
    "\n",
    "Homework assigment 4 is intended to develop your skills in creating linear programming models. The lecture notes (notebook 5.2) will provide with a starting point for the following exercises. The problem data has been changed to provide a more meaningful example for sensitivity analysis.\n",
    "\n",
    "\n",
    "You have been placed in charge of a metals reuse operation. A collection of raw materials are available with key parameters given in the following table.\n",
    "\n",
    "| material | % carbon (C) | % copper (Cu) | % manganese (Mn) | amount (kg) | cost (\\$/kg) | type |\n",
    "| :---: | :---: | :---: | :---: | :---: | :---: | :---\n",
    "| A | 2.5 | 0.0 | 1.3 | 4000 | 1.20 | iron alloy\n",
    "| B | 3.0 | 0.0 | 0.8 | 3000 | 1.50 | iron alloy\n",
    "| C | 0.0 | 0.3 | 0.0 | 6000 | 0.90 | iron alloy\n",
    "| D | 0.0 | 90.0 | 0.0 | 5000 | 1.30 | copper alloy\n",
    "| E | 0.0 | 96.0 | 4.0 | 2000 | 1.45 | copper alloy\n",
    "| F | 0.0 | 0.4 | 1.2 | 3000 | 1.20 | aluminum alloy\n",
    "| G | 0.0 | 0.6 | 0.0 | 2500 | 1.00 | aluminum alloy\n",
    "\n",
    "A customer has requested 5000 kg of mix satisfying these  specifications:\n",
    "\n",
    "| Component | min % | max % |\n",
    "| :---: | :---: | :---: |\n",
    "| C | 2.0 | 3.0 |\n",
    "| Cu | 0.4 | 0.6 |\n",
    "| Mn | 1.2 | 1.65 |\n",
    "\n",
    "For convenience, the raw material data has been organized as a nested dictionaries."
   ]
  },
  {
   "cell_type": "code",
   "execution_count": null,
   "metadata": {
    "id": "cwM6Z9es1HCJ",
    "nbpages": {
     "level": 1,
     "link": "[5.3 Homework Assignment 4](https://jckantor.github.io/cbe30338-2021/05.03-Homework_5.html#5.3-Homework-Assignment-4)",
     "section": "5.3 Homework Assignment 4"
    }
   },
   "outputs": [],
   "source": [
    "data = {\n",
    "    \"A\": {\"C\": 2.5, \"Cu\": 0.0, \"Mn\": 1.3, \"amount\": 4000, \"cost\": 1.20},\n",
    "    \"B\": {\"C\": 3.0, \"Cu\": 0.0, \"Mn\": 0.8, \"amount\": 3000, \"cost\": 1.50},\n",
    "    \"C\": {\"C\": 0.0, \"Cu\": 0.3, \"Mn\": 0.0, \"amount\": 6000, \"cost\": 0.90},\n",
    "    \"D\": {\"C\": 0.0, \"Cu\": 90.0, \"Mn\": 0.0, \"amount\": 5000, \"cost\": 1.30},\n",
    "    \"E\": {\"C\": 0.0, \"Cu\": 96.0, \"Mn\": 4.0, \"amount\": 2000, \"cost\": 1.45},\n",
    "    \"F\": {\"C\": 0.0, \"Cu\": 0.4, \"Mn\": 1.2, \"amount\": 3000, \"cost\": 1.20},\n",
    "    \"G\": {\"C\": 0.0, \"Cu\": 0.6, \"Mn\": 0.0, \"amount\": 2500, \"cost\": 1.00},\n",
    "}"
   ]
  },
  {
   "cell_type": "markdown",
   "metadata": {
    "id": "-OKFyi0htQ9I",
    "nbpages": {
     "level": 2,
     "link": "[5.3.1 Exercise 1. Getting Started](https://jckantor.github.io/cbe30338-2021/05.03-Homework_5.html#5.3.1-Exercise-1.-Getting-Started)",
     "section": "5.3.1 Exercise 1. Getting Started"
    }
   },
   "source": [
    "## 5.3.1 Exercise 1. Getting Started\n",
    "\n",
    "\n"
   ]
  },
  {
   "cell_type": "markdown",
   "metadata": {
    "id": "Pk02uJ5WmKie",
    "nbpages": {
     "level": 2,
     "link": "[5.3.1 Exercise 1. Getting Started](https://jckantor.github.io/cbe30338-2021/05.03-Homework_5.html#5.3.1-Exercise-1.-Getting-Started)",
     "section": "5.3.1 Exercise 1. Getting Started"
    }
   },
   "source": [
    "Considering just the constraint on carbon content, adapt the `brew_blend` function from notebook 5.2 to find a minimum cost blend raw materials that yield 5000 kg of product with a carbon content between 2.0 and 3.0%. For this first exercise you can ignore the bounds on the available amount of each raw material.\n",
    "\n",
    "* change the name of the function to `metal_blend`.\n",
    "* `metal_blend` should accept arguments including\n",
    "    * `data`, \n",
    "    * the required mass of final product, and\n",
    "    *  the acceptable range of carbon content specified as a pair of numbers of  `[lower_bound, upper_bound]`.\n",
    "* `metal_blend` should return the minimum cost, and the amounts of each raw material to include in the blend.\n",
    "\n",
    "Demonstrate use of `metal_blend` to compute the required blend. From the results of the calculation to report\n",
    "\n",
    "* the cost of the blend\n",
    "* the total mass of the blend\n",
    "* the mass of each raw material used in the blend\n",
    "* the composition of the blend with regard to the species carbon, copper and managanese.\n",
    "\n",
    "You may find it convenient to write a function for this purpose that can be used in the following exercise.\n",
    "\n"
   ]
  },
  {
   "cell_type": "markdown",
   "metadata": {
    "id": "_0QMFKqur4qJ",
    "nbpages": {
     "level": 3,
     "link": "[5.3.1.1 Solution](https://jckantor.github.io/cbe30338-2021/05.03-Homework_5.html#5.3.1.1-Solution)",
     "section": "5.3.1.1 Solution"
    }
   },
   "source": [
    "### 5.3.1.1 Solution"
   ]
  },
  {
   "cell_type": "code",
   "execution_count": null,
   "metadata": {
    "id": "C5Rf1oc1r8do",
    "nbpages": {
     "level": 3,
     "link": "[5.3.1.1 Solution](https://jckantor.github.io/cbe30338-2021/05.03-Homework_5.html#5.3.1.1-Solution)",
     "section": "5.3.1.1 Solution"
    }
   },
   "outputs": [],
   "source": [
    "import numpy as np\n",
    "import cvxpy as cp\n",
    "\n",
    "def metal_blend(mass_total, Carbon_bounds, data):\n",
    "    \n",
    "    # extract bounds on carbon content\n",
    "    C12_lower = Carbon_bounds[0]\n",
    "    C12_upper = Carbon_bounds[1]\n",
    "\n",
    "    # create set of components\n",
    "    components = set(data.keys())\n",
    "    \n",
    "    # create variables\n",
    "    x = {c: cp.Variable(nonneg=True, name=c) for c in components}\n",
    "    \n",
    "    # create objective function\n",
    "    total_cost = sum(x[c]*data[c]['cost'] for c in components)\n",
    "    \n",
    "    # create list of constraints\n",
    "    constraints = [\n",
    "        mass_total == sum(x[c] for c in components),\n",
    "        C12_upper >= sum(x[c]*(data[c]['C'])/mass_total for c in components),\n",
    "        C12_lower <= sum(x[c]*(data[c]['C'])/mass_total for c in components)\n",
    "    ]\n",
    "    \n",
    "    # create and solve problem\n",
    "    problem = cp.Problem(cp.Minimize(total_cost), constraints)\n",
    "    problem.solve()\n",
    "    \n",
    "    # return results\n",
    "    min_cost = problem.value\n",
    "    optimal_blend = {c: x[c].value for c in components}\n",
    "    return min_cost, optimal_blend, mass_total"
   ]
  },
  {
   "cell_type": "code",
   "execution_count": null,
   "metadata": {
    "colab": {
     "base_uri": "https://localhost:8080/"
    },
    "id": "wpnHTf_aF9PK",
    "outputId": "ed2300d3-68be-44f7-82ce-778ff3bc3a9d"
   },
   "outputs": [
    {
     "name": "stdout",
     "output_type": "stream",
     "text": [
      "Total cost: $5700.000000286162\n",
      "Total mass: 5000 kg\n",
      "Raw material masses:\n",
      "A: 4000.00 kg\n",
      "B:  0.00 kg\n",
      "C: 1000.00 kg\n",
      "D:  0.00 kg\n",
      "E:  0.00 kg\n",
      "F:  0.00 kg\n",
      "G:  0.00 kg\n",
      "Carbon content: 1.9999999999511684%\n",
      "Copper content: 0.06000000472885763%\n",
      "Manganese content: 1.0400000000561054%\n"
     ]
    }
   ],
   "source": [
    "cost,blend,mass = metal_blend(5000,[2,3],data)\n",
    "print(\"Total cost: $\" + str(cost))\n",
    "print(\"Total mass: \" + str(mass) + \" kg\")\n",
    "print(\"Raw material masses:\")\n",
    "key1 = set(blend.keys())\n",
    "for c in sorted(key1):\n",
    "    print(f\"{c}: {blend[c]:5.2f} kg\")\n",
    "key2 = set(data.keys())\n",
    "C = 0\n",
    "Cu = 0\n",
    "Mn = 0\n",
    "for c in sorted(key2):\n",
    "    C += data[c]['C']*blend[c]/mass\n",
    "    Cu += data[c]['Cu']*blend[c]/mass\n",
    "    Mn += data[c]['Mn']*blend[c]/mass\n",
    "print(\"Carbon content: \" + str(C) + \"%\")\n",
    "print(\"Copper content: \" + str(Cu) + \"%\")\n",
    "print(\"Manganese content: \" + str(Mn) + \"%\")"
   ]
  },
  {
   "cell_type": "markdown",
   "metadata": {
    "id": "DSHMhaDmdb-G",
    "nbpages": {
     "level": 2,
     "link": "[5.3.2 Exercise 2. Incorporating Constraints](https://jckantor.github.io/cbe30338-2021/05.03-Homework_5.html#5.3.2-Exercise-2.-Incorporating-Constraints)",
     "section": "5.3.2 Exercise 2. Incorporating Constraints"
    }
   },
   "source": [
    "## 5.3.2 Exercise 2. Incorporating Constraints\n",
    "\n",
    "We'll continue this problem by incorporating all of the constraints. The constraiints include:\n",
    "\n",
    "* Lower and upper bounds on the copper and manganese composition\n",
    "* Limits on the amount of available raw material\n",
    "\n",
    "The easiest way to proceed is to copy and paste `metal_blend` into a cell below, then add constraints one at a time until all have been incorporated.\n",
    "\n",
    "What is the minimum price you would need to charge in $/kg to produce 5,000 kg of requested product?"
   ]
  },
  {
   "cell_type": "code",
   "execution_count": null,
   "metadata": {
    "id": "heHrOElXeLQr",
    "nbpages": {
     "level": 2,
     "link": "[5.3.2 Exercise 2. Incorporating Constraints](https://jckantor.github.io/cbe30338-2021/05.03-Homework_5.html#5.3.2-Exercise-2.-Incorporating-Constraints)",
     "section": "5.3.2 Exercise 2. Incorporating Constraints"
    }
   },
   "outputs": [],
   "source": [
    "def metal_blend_full(mass_total, Carbon_bounds, Copper_bounds, Manganese_bounds, data):\n",
    "    \n",
    "    # extract bounds on carbon content\n",
    "    C12_lower = Carbon_bounds[0]\n",
    "    C12_upper = Carbon_bounds[1]\n",
    "    Cu_lower = Copper_bounds[0]\n",
    "    Cu_upper = Copper_bounds[1]\n",
    "    Mn_lower = Manganese_bounds[0]\n",
    "    Mn_upper = Manganese_bounds[1]\n",
    "\n",
    "    # create set of components\n",
    "    components = set(data.keys())\n",
    "    \n",
    "    # create variables\n",
    "    x = {c: cp.Variable(nonneg=True, name=c) for c in components}\n",
    "    \n",
    "    # create objective function\n",
    "    total_cost = sum(x[c]*data[c]['cost'] for c in components)\n",
    "    \n",
    "    # create list of constraints\n",
    "    constraints = [\n",
    "        mass_total == sum(x[c] for c in components),\n",
    "        C12_upper >= sum(x[c]*(data[c]['C'])/mass_total for c in components),\n",
    "        C12_lower <= sum(x[c]*(data[c]['C'])/mass_total for c in components),\n",
    "        Cu_upper >= sum(x[c]*(data[c]['Cu'])/mass_total for c in components),\n",
    "        Cu_lower <= sum(x[c]*(data[c]['Cu'])/mass_total for c in components),\n",
    "        Mn_upper >= sum(x[c]*(data[c]['Mn'])/mass_total for c in components),\n",
    "        Mn_lower <= sum(x[c]*(data[c]['Mn'])/mass_total for c in components),\n",
    "        x['A'] <= data['A']['amount'],\n",
    "        x['B'] <= data['B']['amount'],\n",
    "        x['C'] <= data['C']['amount'],\n",
    "        x['D'] <= data['D']['amount'],\n",
    "        x['E'] <= data['E']['amount'],\n",
    "        x['F'] <= data['F']['amount'],\n",
    "        x['G'] <= data['G']['amount']\n",
    "    ]\n",
    "    \n",
    "    # create and solve problem\n",
    "    problem = cp.Problem(cp.Minimize(total_cost), constraints)\n",
    "    problem.solve()\n",
    "    \n",
    "    # return results\n",
    "    min_cost = problem.value\n",
    "    optimal_blend = {c: x[c].value for c in components}\n",
    "    return min_cost, optimal_blend, mass_total"
   ]
  },
  {
   "cell_type": "code",
   "execution_count": null,
   "metadata": {
    "colab": {
     "base_uri": "https://localhost:8080/"
    },
    "id": "luX-JmH8YABx",
    "outputId": "571b8d8e-bd92-4126-a923-5bdacf8dd942"
   },
   "outputs": [
    {
     "name": "stdout",
     "output_type": "stream",
     "text": [
      "{'A': 3999.999999424677, 'E': 27.6127214769523, 'C': 397.7630139073546, 'F': 574.6242613711523, 'D': 1.698894258951156e-07, 'B': 1.3081804390640915e-06, 'G': 2.341794167016571e-06}\n"
     ]
    }
   ],
   "source": [
    "cost,blend,mass = metal_blend_full(5000,[2,3],[0.4,0.6],[1.2,1.65],data)\n",
    "print(blend)"
   ]
  },
  {
   "cell_type": "code",
   "execution_count": null,
   "metadata": {
    "colab": {
     "base_uri": "https://localhost:8080/"
    },
    "id": "hpoO6GmOZjwb",
    "outputId": "e267340d-08fe-44b9-a44c-d02b18b292e8"
   },
   "outputs": [
    {
     "name": "stdout",
     "output_type": "stream",
     "text": [
      "Total cost: $5887.574276138117\n",
      "Total mass: 5000 kg\n",
      "Raw material masses:\n",
      "A: 4000.00 kg\n",
      "B:  0.00 kg\n",
      "C: 397.76 kg\n",
      "D:  0.00 kg\n",
      "E: 27.61 kg\n",
      "F: 574.62 kg\n",
      "G:  0.00 kg\n",
      "Carbon content: 2.0%\n",
      "Copper content: 0.6%\n",
      "Manganese content: 1.2%\n",
      "Minimum required unit price: $1.18/kg\n"
     ]
    }
   ],
   "source": [
    "print(\"Total cost: $\" + str(cost))\n",
    "print(\"Total mass: \" + str(mass) + \" kg\")\n",
    "print(\"Raw material masses:\")\n",
    "key1 = set(blend.keys())\n",
    "for c in sorted(key1):\n",
    "    print(f\"{c}: {blend[c]:5.2f} kg\")\n",
    "key2 = set(data.keys())\n",
    "C = 0\n",
    "Cu = 0\n",
    "Mn = 0\n",
    "for c in sorted(key2):\n",
    "    C += data[c]['C']*blend[c]/mass\n",
    "    Cu += data[c]['Cu']*blend[c]/mass\n",
    "    Mn += data[c]['Mn']*blend[c]/mass\n",
    "print(\"Carbon content: \" + str(round(C,3)) + \"%\")\n",
    "print(\"Copper content: \" + str(round(Cu,3)) + \"%\")\n",
    "print(\"Manganese content: \" + str(round(Mn,3)) + \"%\")\n",
    "rate = cost/mass\n",
    "print(\"Minimum required unit price: $\" + str(round(rate,2)) + \"/kg\")"
   ]
  },
  {
   "cell_type": "markdown",
   "metadata": {
    "id": "Jq99WAVRlLQt",
    "nbpages": {
     "level": 2,
     "link": "[5.3.3 Exercise 3. Sensitivity Analysis](https://jckantor.github.io/cbe30338-2021/05.03-Homework_5.html#5.3.3-Exercise-3.-Sensitivity-Analysis)",
     "section": "5.3.3 Exercise 3. Sensitivity Analysis"
    }
   },
   "source": [
    "## 5.3.3 Exercise 3. Sensitivity Analysis\n",
    "\n",
    "One of the important reasons to create optimization models is to understand the value of the raw materials that are available to you, and how to adjust operations to accomodate changing requirements. The is commonly referred to as **sensitivity analysis**.\n",
    "\n",
    "Using the functions you've created in above exercises, answer the following questions:\n",
    "\n",
    "1. The customer is very pleased with your initial pricing for 5,000 kg of the desired product, and now wishes to increase the order to 6,000 kg. Does your unit cost ($/kg) go up? If so, explain why your unit cost has gone up.\n",
    "\n",
    "2. Is there an upper limit on how much product your can provide to this customer? (Use trial and error. To the nearest 100 kg, find the maximum amount of product you can ship to the customer.) What is the unit cost now?\n",
    "\n",
    "3. After some negotiation, you and your customer settle on an order of 6,500 kg. Now you wish to negotiate with your suppliers for more raw material. How much money to you save for 1 additional kg of raw material \"A\"? Based on this, what price would you be willing to pay your supplier for additional \"A\"?\n",
    "\n"
   ]
  },
  {
   "cell_type": "code",
   "execution_count": null,
   "metadata": {
    "colab": {
     "base_uri": "https://localhost:8080/"
    },
    "id": "ki-CRcCpmKdg",
    "nbpages": {
     "level": 2,
     "link": "[5.3.3 Exercise 3. Sensitivity Analysis](https://jckantor.github.io/cbe30338-2021/05.03-Homework_5.html#5.3.3-Exercise-3.-Sensitivity-Analysis)",
     "section": "5.3.3 Exercise 3. Sensitivity Analysis"
    },
    "outputId": "99ccae2c-bd8b-405b-e33c-341985446d16"
   },
   "outputs": [
    {
     "name": "stdout",
     "output_type": "stream",
     "text": [
      "Total cost: $7352.143776203811\n",
      "Total mass: 6000 kg\n",
      "Minimum required unit price: $1.23/kg\n"
     ]
    }
   ],
   "source": [
    "cost,blend,mass = metal_blend_full(6000,[2,3],[0.4,0.6],[1.2,1.65],data)\n",
    "print(\"Total cost: $\" + str(cost))\n",
    "print(\"Total mass: \" + str(mass) + \" kg\")\n",
    "rate = cost/mass\n",
    "print(\"Minimum required unit price: $\" + str(round(rate,2)) + \"/kg\")"
   ]
  },
  {
   "cell_type": "markdown",
   "metadata": {
    "id": "YjG8NF8ieYKU"
   },
   "source": [
    "The cost of my blend increased on a per-unit mass basis because the optimization required the use of more expensive materials in order to satisfy the constraints on both composition and raw material availability.  Because the original problem, a 5000 kg order, utilized all of the raw material A, increasing the size of the order necessitates the incorporation of a more expensive material to ensure the carbon content constraint is still satisfied."
   ]
  },
  {
   "cell_type": "code",
   "execution_count": null,
   "metadata": {
    "colab": {
     "base_uri": "https://localhost:8080/"
    },
    "id": "ziI-ox5QeaC2",
    "outputId": "3723c3cc-518e-4804-c9bc-a6c7a348a22f"
   },
   "outputs": [
    {
     "name": "stdout",
     "output_type": "stream",
     "text": [
      "Total cost: $8523.79937396798\n",
      "Total mass: 6800 kg\n",
      "Minimum required unit price: $1.25/kg\n",
      "Note: The optimization crashes at 6900 kg and above.\n"
     ]
    }
   ],
   "source": [
    "cost,blend,mass = metal_blend_full(6800,[2,3],[0.4,0.6],[1.2,1.65],data)\n",
    "print(\"Total cost: $\" + str(cost))\n",
    "print(\"Total mass: \" + str(mass) + \" kg\")\n",
    "rate = cost/mass\n",
    "print(\"Minimum required unit price: $\" + str(round(rate,2)) + \"/kg\")\n",
    "print(\"Note: The optimization crashes at 6900 kg and above.\")"
   ]
  },
  {
   "cell_type": "code",
   "execution_count": null,
   "metadata": {
    "id": "eGNRPe_4gBgH"
   },
   "outputs": [],
   "source": [
    "def metal_blend_sensitivity(mass_total, Carbon_bounds, Copper_bounds, Manganese_bounds, data,perturb):\n",
    "    # extract bounds on carbon content\n",
    "    C12_lower = Carbon_bounds[0]\n",
    "    C12_upper = Carbon_bounds[1]\n",
    "    Cu_lower = Copper_bounds[0]\n",
    "    Cu_upper = Copper_bounds[1]\n",
    "    Mn_lower = Manganese_bounds[0]\n",
    "    Mn_upper = Manganese_bounds[1]\n",
    "    # create set of components\n",
    "    components = set(data.keys())\n",
    "    # create variables\n",
    "    x = {c: cp.Variable(nonneg=True, name=c) for c in components}\n",
    "    # create objective function\n",
    "    total_cost = sum(x[c]*data[c]['cost'] for c in components)\n",
    "    # create list of constraints\n",
    "    constraints = [\n",
    "        mass_total == sum(x[c] for c in components),\n",
    "        C12_upper >= sum(x[c]*(data[c]['C'])/mass_total for c in components),\n",
    "        C12_lower <= sum(x[c]*(data[c]['C'])/mass_total for c in components),\n",
    "        Cu_upper >= sum(x[c]*(data[c]['Cu'])/mass_total for c in components),\n",
    "        Cu_lower <= sum(x[c]*(data[c]['Cu'])/mass_total for c in components),\n",
    "        Mn_upper >= sum(x[c]*(data[c]['Mn'])/mass_total for c in components),\n",
    "        Mn_lower <= sum(x[c]*(data[c]['Mn'])/mass_total for c in components),\n",
    "        x['A'] <= data['A']['amount'] + perturb,\n",
    "        x['B'] <= data['B']['amount'],\n",
    "        x['C'] <= data['C']['amount'],\n",
    "        x['D'] <= data['D']['amount'],\n",
    "        x['E'] <= data['E']['amount'],\n",
    "        x['F'] <= data['F']['amount'],\n",
    "        x['G'] <= data['G']['amount']\n",
    "    ]\n",
    "    # create and solve problem\n",
    "    problem = cp.Problem(cp.Minimize(total_cost), constraints)\n",
    "    problem.solve()\n",
    "    # return results\n",
    "    min_cost = problem.value\n",
    "    optimal_blend = {c: x[c].value for c in components}\n",
    "    return min_cost, optimal_blend, mass_total"
   ]
  },
  {
   "cell_type": "code",
   "execution_count": null,
   "metadata": {
    "colab": {
     "base_uri": "https://localhost:8080/"
    },
    "id": "ZDKHWOVUfwwB",
    "outputId": "8d4b0e06-713a-4aeb-ab7e-e83a5bbb94a3"
   },
   "outputs": [
    {
     "name": "stdout",
     "output_type": "stream",
     "text": [
      "Initial Cost: $8084.43\n",
      "With one additional unit of A: $8084.07\n",
      "With two additional units of A: $8083.71\n",
      "With 3 additional units of A: $8083.35\n"
     ]
    }
   ],
   "source": [
    "cost0,blend0,mass0 = metal_blend_sensitivity(6500,[2,3],[0.4,0.6],[1.2,1.65],data,0)\n",
    "print(\"Initial Cost: $\" + str(round(cost0,2)))\n",
    "cost1,blend1,mass1 = metal_blend_sensitivity(6500,[2,3],[0.4,0.6],[1.2,1.65],data,1)\n",
    "print(\"With one additional unit of A: $\" + str(round(cost1,2)))\n",
    "cost2,blend2,mass2 = metal_blend_sensitivity(6500,[2,3],[0.4,0.6],[1.2,1.65],data,2)\n",
    "print(\"With two additional units of A: $\" + str(round(cost2,2)))\n",
    "cost3,blend3,mass3 = metal_blend_sensitivity(6500,[2,3],[0.4,0.6],[1.2,1.65],data,3)\n",
    "print(\"With 3 additional units of A: $\" + str(round(cost3,2)))"
   ]
  },
  {
   "cell_type": "markdown",
   "metadata": {
    "id": "YdlyAYqhhTIO"
   },
   "source": [
    "Based on this analysis, I would be willing to pay an additional 35 cents for each EXTRA unit of A, for a total of $1.55 per unit purchased above 4000.  Of course, I would try to negotiate this extra fee down, but the maximum additional cost that still results in extra profit is 35 cents."
   ]
  },
  {
   "cell_type": "markdown",
   "metadata": {
    "id": "DeCPPqeFDNSu"
   },
   "source": [
    "<!--NAVIGATION-->\n",
    "< [5.2 Linear Blending Problems](https://jckantor.github.io/cbe30338-2021/05.02-Linear-Blending-Problem.html) | [Contents](toc.html) | [Tag Index](tag_index.html) | [5.4 Gasoline Blending](https://jckantor.github.io/cbe30338-2021/05.04-Gasoline-Blending.html) ><p><a href=\"https://colab.research.google.com/github/jckantor/cbe30338-2021/blob/master/docs/05.03-Homework_5.ipynb\"> <img align=\"left\" src=\"https://colab.research.google.com/assets/colab-badge.svg\" alt=\"Open in Colab\" title=\"Open in Google Colaboratory\"></a><p><a href=\"https://jckantor.github.io/cbe30338-2021/05.03-Homework_5.ipynb\"> <img align=\"left\" src=\"https://img.shields.io/badge/Github-Download-blue.svg\" alt=\"Download\" title=\"Download Notebook\"></a>"
   ]
  }
 ],
 "metadata": {
  "colab": {
   "collapsed_sections": [],
   "name": "Copy of 05.03-Homework_5.ipynb",
   "provenance": []
  },
  "kernelspec": {
   "display_name": "Python 3",
   "language": "python",
   "name": "python3"
  },
  "language_info": {
   "codemirror_mode": {
    "name": "ipython",
    "version": 3
   },
   "file_extension": ".py",
   "mimetype": "text/x-python",
   "name": "python",
   "nbconvert_exporter": "python",
   "pygments_lexer": "ipython3",
   "version": "3.7.3"
  }
 },
 "nbformat": 4,
 "nbformat_minor": 1
}
